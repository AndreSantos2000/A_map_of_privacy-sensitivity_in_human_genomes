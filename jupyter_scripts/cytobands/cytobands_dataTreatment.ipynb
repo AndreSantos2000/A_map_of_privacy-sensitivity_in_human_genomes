{
 "cells": [
  {
   "cell_type": "code",
   "execution_count": null,
   "id": "a3d51299-e6d7-4d91-8d2a-3ef562f299c1",
   "metadata": {},
   "outputs": [],
   "source": [
    "import pandas as pd\n",
    "import matplotlib.pyplot as plt\n",
    "import numpy as np"
   ]
  },
  {
   "cell_type": "code",
   "execution_count": null,
   "id": "91abcf49-438d-4e06-be86-bf516cbd58d3",
   "metadata": {},
   "outputs": [],
   "source": [
    "def add_headersToDf(dataframe):\n",
    "    return dataframe.rename(columns={0: 'Chromossome', 1: 'First_index', 2: 'Last_index', 3: 'Citoband', 4: 'Unkown'})"
   ]
  },
  {
   "cell_type": "code",
   "execution_count": null,
   "id": "f24376f2-e60f-4fbf-9acb-23dacd80be05",
   "metadata": {},
   "outputs": [],
   "source": [
    "def subtract_lastindex(dataframe):\n",
    "    new_row = []\n",
    "    for row in dataframe['Last_index']:\n",
    "        new_row.append(row - 1)\n",
    "    \n",
    "    dataframe.drop('Last_index', axis = 1, inplace=True)\n",
    "\n",
    "    dataframe.insert(2, \"Last_index\", new_row, True)"
   ]
  },
  {
   "cell_type": "code",
   "execution_count": null,
   "id": "a187bbb8-c27b-4604-ace8-20eabf78d96a",
   "metadata": {},
   "outputs": [],
   "source": [
    "def add_sizeColumn(dataframe):\n",
    "    sizes = []\n",
    "    for row in range(len(dataframe.values)):\n",
    "        size = dataframe[\"Last_index\"][row] - dataframe[\"First_index\"][row]\n",
    "        sizes.append(size)\n",
    "    dataframe.insert(len(dataframe.columns), \"Size\", sizes, True)"
   ]
  },
  {
   "cell_type": "code",
   "execution_count": null,
   "id": "cbae1545-548e-4156-863c-b5c105e3a86f",
   "metadata": {},
   "outputs": [],
   "source": [
    "def getChromossome(df, n):\n",
    "    \"\"\"Returns pandas dataframe with only the citobands of one chromossome n\n",
    "    \"\"\"\n",
    "    chomossome = str(n)\n",
    "    chr_array = []\n",
    "    #print(\"dataframe columns = \", df.columns)\n",
    "    #chr_array.append(['Chromossome','First_index', 'Last_index', \"Citoband\", 'Unkown'])\n",
    "    for row in df.values:\n",
    "        cito_array = []\n",
    "        if row[0] == chomossome:\n",
    "            for col in row:\n",
    "                cito_array.append(col)\n",
    "            chr_array.append(cito_array)\n",
    "    return pd.DataFrame(chr_array, columns=df.columns)#['Chromossome','First_index', 'Last_index', 'Citoband', 'Unkown', 'Size'] )"
   ]
  },
  {
   "cell_type": "code",
   "execution_count": null,
   "id": "268b3efa-52ad-4fba-bab9-653e6757ce2a",
   "metadata": {},
   "outputs": [],
   "source": [
    "######################################## calc densities ############################################\n",
    "def calc_strDensity(citobands_df, STR_df):\n",
    "    densities = []\n",
    "    #print(citobands_df[\"Chromossome\"].unique())\n",
    "    #print(citobands_df.columns)\n",
    "    for chr in citobands_df[\"Chromossome\"].unique():                #ordem esta definida aqui\n",
    "        print(\"searching citobands in chromossome: \", chr)\n",
    "        citobands_chr = getChromossome(citobands_df, chr)\n",
    "        #print(citobands_chr)\n",
    "        citobands_size = citobands_chr[\"Last_index\"][-1:]+1\n",
    "        citobands_strs = np.zeros((citobands_size), dtype=int)\n",
    "        #print(len(citobands_strs))\n",
    "        for row in range(len(STR_df.values)):\n",
    "            if STR_df[\"FastaHeader\"][row] == chr:\n",
    "                for i in range (STR_df[\"FirstIndex\"][row], STR_df[\"LastIndex\"][row]):\n",
    "                    citobands_strs[i]+=1\n",
    "                    #print(\"inside cicle: \", np.count_nonzero(citobands_strs))\n",
    "        #print(\"total STR length in chromossome \", chr, \": \", np.count_nonzero(citobands_strs))\n",
    "        for citoband in range(len(citobands_chr.values)):\n",
    "            citoband_array = citobands_strs[int(citobands_chr[\"First_index\"][citoband]):int(citobands_chr[\"Last_index\"][citoband])]\n",
    "            #print(citoband_array)\n",
    "            str_length = np.count_nonzero(citoband_array)\n",
    "            citoband_length = citobands_chr[\"Size\"][citoband]\n",
    "            density = str_length/citoband_length\n",
    "            #print(\"length of citoband \", citobands_df[\"Citoband\"][citoband] ,\": \", citoband_length)\n",
    "            #print(\"length of strs in citoband \", citobands_df[\"Citoband\"][citoband] ,\": \", str_length)\n",
    "            #print(\"resulting str density in citoband \", citobands_df[\"Citoband\"][citoband] ,\": \", density)\n",
    "            densities.append(round(density, 3))\n",
    "        \n",
    "        #print(np.where(citoband_strs > 0))\n",
    "    citobands_df.insert(len(citobands_df.columns), \"STR_Density\", densities, True)"
   ]
  },
  {
   "cell_type": "code",
   "execution_count": null,
   "id": "6692bd12-dde6-47e5-83c4-1aa787010889",
   "metadata": {},
   "outputs": [],
   "source": [
    "def writetxt(txt_path, df):\n",
    "    with open(txt_path, 'w') as f:\n",
    "        df_string = df.to_string(header=False, index=False)\n",
    "        f.write(df_string)\n",
    "        f.close\n",
    "\n",
    "def writeNewtxt(file_path, df):\n",
    "    \"\"\"Writes a pandas dataframe into txt, columns separated by tabs (\"\\t\")\n",
    "    \"\"\"\n",
    "    f = open(file_path, 'w')\n",
    "    str_cols = \"\"\n",
    "    for col in df.columns[:-1]:\n",
    "        str_cols += col + \"\\t\"\n",
    "    str_cols += df.columns.values[-1]+ \"\\n\"\n",
    "    f.write(str(str_cols))\n",
    "    for row in df.values:\n",
    "        str_row = \"\"\n",
    "        for col in row[:-1]:\n",
    "            str_row += str(col) + \"\\t\"\n",
    "        str_row += str(row[-1])+ \"\\n\"\n",
    "        f.write(str_row)\n",
    "    f.close"
   ]
  },
  {
   "cell_type": "code",
   "execution_count": null,
   "id": "f2bcba68-dcb3-48ad-a06a-c06c572fac93",
   "metadata": {},
   "outputs": [],
   "source": [
    "citoPath_read = \"/home/androx/Documents/trabalho/citobands/cytobandFiltered.txt\"\n",
    "citoPath_write = \"/home/androx/Documents/trabalho/citobands/cytobandFiltered_processed_complete.txt\"\n",
    "#STRPath_read = \"/home/androx/Documents/trabalho/datasets/STR/HomosapiensHG38_nov2014/HomosapiensHG38_FullGenome_processed.txt\"\n",
    "STRPath_read = \"/home/androx/Documents/trabalho/datasets/STR/HomosapiensHG38_jan2016/HumanGenome_processed.txt\"\n",
    "\n",
    "citobands_df = add_headersToDf(pd.read_csv(citoPath_read, sep=\"\\t\", header=None))\n",
    "str_df = pd.read_csv(STRPath_read, sep=\"\\t\")\n",
    "#print(\"columns: \", cito_dataframe.columns)\n",
    "\n",
    "subtract_lastindex(citobands_df)\n",
    "add_sizeColumn(citobands_df)\n",
    "#print(citobands_df)"
   ]
  },
  {
   "cell_type": "code",
   "execution_count": null,
   "id": "0324448e-9be0-426f-8d0c-d15521cd15ad",
   "metadata": {},
   "outputs": [],
   "source": [
    "calc_strDensity(citobands_df, str_df)\n",
    "print(citobands_df)\n",
    "#print(str_df)"
   ]
  },
  {
   "cell_type": "code",
   "execution_count": null,
   "id": "616d77f2-7753-4034-adac-ac8fe559ad0c",
   "metadata": {},
   "outputs": [],
   "source": [
    "#writetxt(citoPath_write, citobands_df)\n",
    "writeNewtxt(citoPath_write, citobands_df)"
   ]
  }
 ],
 "metadata": {
  "kernelspec": {
   "display_name": "Python 3 (ipykernel)",
   "language": "python",
   "name": "python3"
  },
  "language_info": {
   "codemirror_mode": {
    "name": "ipython",
    "version": 3
   },
   "file_extension": ".py",
   "mimetype": "text/x-python",
   "name": "python",
   "nbconvert_exporter": "python",
   "pygments_lexer": "ipython3",
   "version": "3.10.12"
  }
 },
 "nbformat": 4,
 "nbformat_minor": 5
}
